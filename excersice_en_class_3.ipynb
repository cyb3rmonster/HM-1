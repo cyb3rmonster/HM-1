{
 "cells": [
  {
   "cell_type": "markdown",
   "id": "d63e69b9",
   "metadata": {},
   "source": [
    "## Exercise 1: Représentation des données"
   ]
  },
  {
   "cell_type": "code",
   "execution_count": 1,
   "id": "1454ba00",
   "metadata": {},
   "outputs": [],
   "source": [
    "import pandas as pd\n",
    "# https://www.machinelearningplus.com/plots/top-50-matplotlib-visualizations-the-master-plots-python/"
   ]
  },
  {
   "cell_type": "markdown",
   "id": "4014815e",
   "metadata": {},
   "source": [
    "### 1.1 Lisez la base de données heart.txt"
   ]
  },
  {
   "cell_type": "code",
   "execution_count": 2,
   "id": "09a2bbe7",
   "metadata": {},
   "outputs": [],
   "source": [
    "df = pd.read_csv('heart.txt', delimiter = '\\s+', header = 0)"
   ]
  },
  {
   "cell_type": "code",
   "execution_count": 3,
   "id": "12c983a1",
   "metadata": {
    "scrolled": false
   },
   "outputs": [
    {
     "data": {
      "text/html": [
       "<div>\n",
       "<style scoped>\n",
       "    .dataframe tbody tr th:only-of-type {\n",
       "        vertical-align: middle;\n",
       "    }\n",
       "\n",
       "    .dataframe tbody tr th {\n",
       "        vertical-align: top;\n",
       "    }\n",
       "\n",
       "    .dataframe thead th {\n",
       "        text-align: right;\n",
       "    }\n",
       "</style>\n",
       "<table border=\"1\" class=\"dataframe\">\n",
       "  <thead>\n",
       "    <tr style=\"text-align: right;\">\n",
       "      <th></th>\n",
       "      <th>age</th>\n",
       "      <th>sexe</th>\n",
       "      <th>type_douleur</th>\n",
       "      <th>pression</th>\n",
       "      <th>cholester</th>\n",
       "      <th>sucre</th>\n",
       "      <th>electro</th>\n",
       "      <th>taux_max</th>\n",
       "      <th>angine</th>\n",
       "      <th>depression</th>\n",
       "      <th>pic</th>\n",
       "      <th>vaisseau</th>\n",
       "      <th>coeur</th>\n",
       "    </tr>\n",
       "  </thead>\n",
       "  <tbody>\n",
       "    <tr>\n",
       "      <th>0</th>\n",
       "      <td>70</td>\n",
       "      <td>masculin</td>\n",
       "      <td>D</td>\n",
       "      <td>130</td>\n",
       "      <td>322</td>\n",
       "      <td>A</td>\n",
       "      <td>C</td>\n",
       "      <td>109</td>\n",
       "      <td>non</td>\n",
       "      <td>2.4</td>\n",
       "      <td>2</td>\n",
       "      <td>D</td>\n",
       "      <td>presence</td>\n",
       "    </tr>\n",
       "    <tr>\n",
       "      <th>1</th>\n",
       "      <td>67</td>\n",
       "      <td>feminin</td>\n",
       "      <td>C</td>\n",
       "      <td>115</td>\n",
       "      <td>564</td>\n",
       "      <td>A</td>\n",
       "      <td>C</td>\n",
       "      <td>160</td>\n",
       "      <td>non</td>\n",
       "      <td>1.6</td>\n",
       "      <td>2</td>\n",
       "      <td>A</td>\n",
       "      <td>absence</td>\n",
       "    </tr>\n",
       "    <tr>\n",
       "      <th>2</th>\n",
       "      <td>57</td>\n",
       "      <td>masculin</td>\n",
       "      <td>B</td>\n",
       "      <td>124</td>\n",
       "      <td>261</td>\n",
       "      <td>A</td>\n",
       "      <td>A</td>\n",
       "      <td>141</td>\n",
       "      <td>non</td>\n",
       "      <td>0.3</td>\n",
       "      <td>1</td>\n",
       "      <td>A</td>\n",
       "      <td>presence</td>\n",
       "    </tr>\n",
       "    <tr>\n",
       "      <th>3</th>\n",
       "      <td>64</td>\n",
       "      <td>masculin</td>\n",
       "      <td>D</td>\n",
       "      <td>128</td>\n",
       "      <td>263</td>\n",
       "      <td>A</td>\n",
       "      <td>A</td>\n",
       "      <td>105</td>\n",
       "      <td>oui</td>\n",
       "      <td>0.2</td>\n",
       "      <td>2</td>\n",
       "      <td>B</td>\n",
       "      <td>absence</td>\n",
       "    </tr>\n",
       "    <tr>\n",
       "      <th>4</th>\n",
       "      <td>74</td>\n",
       "      <td>feminin</td>\n",
       "      <td>B</td>\n",
       "      <td>120</td>\n",
       "      <td>269</td>\n",
       "      <td>A</td>\n",
       "      <td>C</td>\n",
       "      <td>121</td>\n",
       "      <td>oui</td>\n",
       "      <td>0.2</td>\n",
       "      <td>1</td>\n",
       "      <td>B</td>\n",
       "      <td>absence</td>\n",
       "    </tr>\n",
       "    <tr>\n",
       "      <th>...</th>\n",
       "      <td>...</td>\n",
       "      <td>...</td>\n",
       "      <td>...</td>\n",
       "      <td>...</td>\n",
       "      <td>...</td>\n",
       "      <td>...</td>\n",
       "      <td>...</td>\n",
       "      <td>...</td>\n",
       "      <td>...</td>\n",
       "      <td>...</td>\n",
       "      <td>...</td>\n",
       "      <td>...</td>\n",
       "      <td>...</td>\n",
       "    </tr>\n",
       "    <tr>\n",
       "      <th>265</th>\n",
       "      <td>52</td>\n",
       "      <td>masculin</td>\n",
       "      <td>C</td>\n",
       "      <td>172</td>\n",
       "      <td>199</td>\n",
       "      <td>B</td>\n",
       "      <td>A</td>\n",
       "      <td>162</td>\n",
       "      <td>non</td>\n",
       "      <td>0.5</td>\n",
       "      <td>1</td>\n",
       "      <td>A</td>\n",
       "      <td>absence</td>\n",
       "    </tr>\n",
       "    <tr>\n",
       "      <th>266</th>\n",
       "      <td>44</td>\n",
       "      <td>masculin</td>\n",
       "      <td>B</td>\n",
       "      <td>120</td>\n",
       "      <td>263</td>\n",
       "      <td>A</td>\n",
       "      <td>A</td>\n",
       "      <td>173</td>\n",
       "      <td>non</td>\n",
       "      <td>0.0</td>\n",
       "      <td>1</td>\n",
       "      <td>A</td>\n",
       "      <td>absence</td>\n",
       "    </tr>\n",
       "    <tr>\n",
       "      <th>267</th>\n",
       "      <td>56</td>\n",
       "      <td>feminin</td>\n",
       "      <td>B</td>\n",
       "      <td>140</td>\n",
       "      <td>294</td>\n",
       "      <td>A</td>\n",
       "      <td>C</td>\n",
       "      <td>153</td>\n",
       "      <td>non</td>\n",
       "      <td>1.3</td>\n",
       "      <td>2</td>\n",
       "      <td>A</td>\n",
       "      <td>absence</td>\n",
       "    </tr>\n",
       "    <tr>\n",
       "      <th>268</th>\n",
       "      <td>57</td>\n",
       "      <td>masculin</td>\n",
       "      <td>D</td>\n",
       "      <td>140</td>\n",
       "      <td>192</td>\n",
       "      <td>A</td>\n",
       "      <td>A</td>\n",
       "      <td>148</td>\n",
       "      <td>non</td>\n",
       "      <td>0.4</td>\n",
       "      <td>2</td>\n",
       "      <td>A</td>\n",
       "      <td>absence</td>\n",
       "    </tr>\n",
       "    <tr>\n",
       "      <th>269</th>\n",
       "      <td>67</td>\n",
       "      <td>masculin</td>\n",
       "      <td>D</td>\n",
       "      <td>160</td>\n",
       "      <td>286</td>\n",
       "      <td>A</td>\n",
       "      <td>C</td>\n",
       "      <td>108</td>\n",
       "      <td>oui</td>\n",
       "      <td>1.5</td>\n",
       "      <td>2</td>\n",
       "      <td>D</td>\n",
       "      <td>presence</td>\n",
       "    </tr>\n",
       "  </tbody>\n",
       "</table>\n",
       "<p>270 rows × 13 columns</p>\n",
       "</div>"
      ],
      "text/plain": [
       "     age      sexe type_douleur  pression  cholester sucre electro  taux_max  \\\n",
       "0     70  masculin            D       130        322     A       C       109   \n",
       "1     67   feminin            C       115        564     A       C       160   \n",
       "2     57  masculin            B       124        261     A       A       141   \n",
       "3     64  masculin            D       128        263     A       A       105   \n",
       "4     74   feminin            B       120        269     A       C       121   \n",
       "..   ...       ...          ...       ...        ...   ...     ...       ...   \n",
       "265   52  masculin            C       172        199     B       A       162   \n",
       "266   44  masculin            B       120        263     A       A       173   \n",
       "267   56   feminin            B       140        294     A       C       153   \n",
       "268   57  masculin            D       140        192     A       A       148   \n",
       "269   67  masculin            D       160        286     A       C       108   \n",
       "\n",
       "    angine  depression  pic vaisseau     coeur  \n",
       "0      non         2.4    2        D  presence  \n",
       "1      non         1.6    2        A   absence  \n",
       "2      non         0.3    1        A  presence  \n",
       "3      oui         0.2    2        B   absence  \n",
       "4      oui         0.2    1        B   absence  \n",
       "..     ...         ...  ...      ...       ...  \n",
       "265    non         0.5    1        A   absence  \n",
       "266    non         0.0    1        A   absence  \n",
       "267    non         1.3    2        A   absence  \n",
       "268    non         0.4    2        A   absence  \n",
       "269    oui         1.5    2        D  presence  \n",
       "\n",
       "[270 rows x 13 columns]"
      ]
     },
     "execution_count": 3,
     "metadata": {},
     "output_type": "execute_result"
    }
   ],
   "source": [
    "df"
   ]
  },
  {
   "cell_type": "markdown",
   "id": "b9d5efae",
   "metadata": {},
   "source": [
    "Verification du type pour pouvoir connaitre les operations "
   ]
  },
  {
   "cell_type": "code",
   "execution_count": 4,
   "id": "5ccd10fd",
   "metadata": {},
   "outputs": [
    {
     "name": "stdout",
     "output_type": "stream",
     "text": [
      "<class 'pandas.core.frame.DataFrame'>\n"
     ]
    }
   ],
   "source": [
    "print(type(df))"
   ]
  },
  {
   "cell_type": "markdown",
   "id": "72b5ec1f",
   "metadata": {},
   "source": [
    "### 1.2 Déterminez le numbre d'individu (df)"
   ]
  },
  {
   "cell_type": "markdown",
   "id": "83f9da71",
   "metadata": {},
   "source": [
    "Le axis 0 represente les \"rows\" "
   ]
  },
  {
   "cell_type": "code",
   "execution_count": 5,
   "id": "ea20eccf",
   "metadata": {},
   "outputs": [
    {
     "data": {
      "text/plain": [
       "270"
      ]
     },
     "execution_count": 5,
     "metadata": {},
     "output_type": "execute_result"
    }
   ],
   "source": [
    "df.shape[0]"
   ]
  },
  {
   "cell_type": "markdown",
   "id": "b5a4e534",
   "metadata": {},
   "source": [
    "### 1.3 Déterminez le nombre de variables (df)"
   ]
  },
  {
   "cell_type": "markdown",
   "id": "4de37228",
   "metadata": {},
   "source": [
    "Le axis 1 represente les \"columns\""
   ]
  },
  {
   "cell_type": "code",
   "execution_count": 6,
   "id": "3873fbf5",
   "metadata": {},
   "outputs": [
    {
     "data": {
      "text/plain": [
       "13"
      ]
     },
     "execution_count": 6,
     "metadata": {},
     "output_type": "execute_result"
    }
   ],
   "source": [
    "df.shape[1]"
   ]
  },
  {
   "cell_type": "markdown",
   "id": "68a53343",
   "metadata": {},
   "source": [
    "### 1.4 Affichez les valeurs des variables des six premiers individus (df)"
   ]
  },
  {
   "cell_type": "code",
   "execution_count": 7,
   "id": "18333d69",
   "metadata": {},
   "outputs": [
    {
     "data": {
      "text/html": [
       "<div>\n",
       "<style scoped>\n",
       "    .dataframe tbody tr th:only-of-type {\n",
       "        vertical-align: middle;\n",
       "    }\n",
       "\n",
       "    .dataframe tbody tr th {\n",
       "        vertical-align: top;\n",
       "    }\n",
       "\n",
       "    .dataframe thead th {\n",
       "        text-align: right;\n",
       "    }\n",
       "</style>\n",
       "<table border=\"1\" class=\"dataframe\">\n",
       "  <thead>\n",
       "    <tr style=\"text-align: right;\">\n",
       "      <th></th>\n",
       "      <th>age</th>\n",
       "      <th>sexe</th>\n",
       "      <th>type_douleur</th>\n",
       "      <th>pression</th>\n",
       "      <th>cholester</th>\n",
       "      <th>sucre</th>\n",
       "      <th>electro</th>\n",
       "      <th>taux_max</th>\n",
       "      <th>angine</th>\n",
       "      <th>depression</th>\n",
       "      <th>pic</th>\n",
       "      <th>vaisseau</th>\n",
       "      <th>coeur</th>\n",
       "    </tr>\n",
       "  </thead>\n",
       "  <tbody>\n",
       "    <tr>\n",
       "      <th>0</th>\n",
       "      <td>70</td>\n",
       "      <td>masculin</td>\n",
       "      <td>D</td>\n",
       "      <td>130</td>\n",
       "      <td>322</td>\n",
       "      <td>A</td>\n",
       "      <td>C</td>\n",
       "      <td>109</td>\n",
       "      <td>non</td>\n",
       "      <td>2.4</td>\n",
       "      <td>2</td>\n",
       "      <td>D</td>\n",
       "      <td>presence</td>\n",
       "    </tr>\n",
       "    <tr>\n",
       "      <th>1</th>\n",
       "      <td>67</td>\n",
       "      <td>feminin</td>\n",
       "      <td>C</td>\n",
       "      <td>115</td>\n",
       "      <td>564</td>\n",
       "      <td>A</td>\n",
       "      <td>C</td>\n",
       "      <td>160</td>\n",
       "      <td>non</td>\n",
       "      <td>1.6</td>\n",
       "      <td>2</td>\n",
       "      <td>A</td>\n",
       "      <td>absence</td>\n",
       "    </tr>\n",
       "    <tr>\n",
       "      <th>2</th>\n",
       "      <td>57</td>\n",
       "      <td>masculin</td>\n",
       "      <td>B</td>\n",
       "      <td>124</td>\n",
       "      <td>261</td>\n",
       "      <td>A</td>\n",
       "      <td>A</td>\n",
       "      <td>141</td>\n",
       "      <td>non</td>\n",
       "      <td>0.3</td>\n",
       "      <td>1</td>\n",
       "      <td>A</td>\n",
       "      <td>presence</td>\n",
       "    </tr>\n",
       "    <tr>\n",
       "      <th>3</th>\n",
       "      <td>64</td>\n",
       "      <td>masculin</td>\n",
       "      <td>D</td>\n",
       "      <td>128</td>\n",
       "      <td>263</td>\n",
       "      <td>A</td>\n",
       "      <td>A</td>\n",
       "      <td>105</td>\n",
       "      <td>oui</td>\n",
       "      <td>0.2</td>\n",
       "      <td>2</td>\n",
       "      <td>B</td>\n",
       "      <td>absence</td>\n",
       "    </tr>\n",
       "    <tr>\n",
       "      <th>4</th>\n",
       "      <td>74</td>\n",
       "      <td>feminin</td>\n",
       "      <td>B</td>\n",
       "      <td>120</td>\n",
       "      <td>269</td>\n",
       "      <td>A</td>\n",
       "      <td>C</td>\n",
       "      <td>121</td>\n",
       "      <td>oui</td>\n",
       "      <td>0.2</td>\n",
       "      <td>1</td>\n",
       "      <td>B</td>\n",
       "      <td>absence</td>\n",
       "    </tr>\n",
       "    <tr>\n",
       "      <th>5</th>\n",
       "      <td>65</td>\n",
       "      <td>masculin</td>\n",
       "      <td>D</td>\n",
       "      <td>120</td>\n",
       "      <td>177</td>\n",
       "      <td>A</td>\n",
       "      <td>A</td>\n",
       "      <td>140</td>\n",
       "      <td>non</td>\n",
       "      <td>0.4</td>\n",
       "      <td>1</td>\n",
       "      <td>A</td>\n",
       "      <td>absence</td>\n",
       "    </tr>\n",
       "  </tbody>\n",
       "</table>\n",
       "</div>"
      ],
      "text/plain": [
       "   age      sexe type_douleur  pression  cholester sucre electro  taux_max  \\\n",
       "0   70  masculin            D       130        322     A       C       109   \n",
       "1   67   feminin            C       115        564     A       C       160   \n",
       "2   57  masculin            B       124        261     A       A       141   \n",
       "3   64  masculin            D       128        263     A       A       105   \n",
       "4   74   feminin            B       120        269     A       C       121   \n",
       "5   65  masculin            D       120        177     A       A       140   \n",
       "\n",
       "  angine  depression  pic vaisseau     coeur  \n",
       "0    non         2.4    2        D  presence  \n",
       "1    non         1.6    2        A   absence  \n",
       "2    non         0.3    1        A  presence  \n",
       "3    oui         0.2    2        B   absence  \n",
       "4    oui         0.2    1        B   absence  \n",
       "5    non         0.4    1        A   absence  "
      ]
     },
     "execution_count": 7,
     "metadata": {},
     "output_type": "execute_result"
    }
   ],
   "source": [
    "df.head(6)"
   ]
  },
  {
   "cell_type": "markdown",
   "id": "d4c005bd",
   "metadata": {},
   "source": [
    "### 1.5 Énumérez les différentes variables (df)"
   ]
  },
  {
   "cell_type": "code",
   "execution_count": 8,
   "id": "4741cc88",
   "metadata": {},
   "outputs": [
    {
     "data": {
      "text/plain": [
       "['age',\n",
       " 'sexe',\n",
       " 'type_douleur',\n",
       " 'pression',\n",
       " 'cholester',\n",
       " 'sucre',\n",
       " 'electro',\n",
       " 'taux_max',\n",
       " 'angine',\n",
       " 'depression',\n",
       " 'pic',\n",
       " 'vaisseau',\n",
       " 'coeur']"
      ]
     },
     "execution_count": 8,
     "metadata": {},
     "output_type": "execute_result"
    }
   ],
   "source": [
    "list(df)"
   ]
  },
  {
   "cell_type": "markdown",
   "id": "aed7293e",
   "metadata": {},
   "source": [
    "### 1.6 Considérez un sous-ensemble de variables (les 8 premières) et vérifier la dimension (df1)"
   ]
  },
  {
   "cell_type": "code",
   "execution_count": 9,
   "id": "d406b616",
   "metadata": {},
   "outputs": [],
   "source": [
    "df1 = df.iloc[:,0:8]"
   ]
  },
  {
   "cell_type": "code",
   "execution_count": 10,
   "id": "91344a7e",
   "metadata": {},
   "outputs": [
    {
     "data": {
      "text/plain": [
       "(270, 8)"
      ]
     },
     "execution_count": 10,
     "metadata": {},
     "output_type": "execute_result"
    }
   ],
   "source": [
    "df1.shape"
   ]
  },
  {
   "cell_type": "markdown",
   "id": "0cd7eea6",
   "metadata": {},
   "source": [
    "### 1.7 Énumérez les différentes variables de (df1)"
   ]
  },
  {
   "cell_type": "code",
   "execution_count": 11,
   "id": "17029d02",
   "metadata": {},
   "outputs": [
    {
     "data": {
      "text/plain": [
       "['age',\n",
       " 'sexe',\n",
       " 'type_douleur',\n",
       " 'pression',\n",
       " 'cholester',\n",
       " 'sucre',\n",
       " 'electro',\n",
       " 'taux_max']"
      ]
     },
     "execution_count": 11,
     "metadata": {},
     "output_type": "execute_result"
    }
   ],
   "source": [
    "list(df1)"
   ]
  },
  {
   "cell_type": "code",
   "execution_count": null,
   "id": "c879407c",
   "metadata": {},
   "outputs": [],
   "source": []
  },
  {
   "cell_type": "markdown",
   "id": "99e96848",
   "metadata": {},
   "source": [
    "\n",
    "### 1.8 Considérez un sous-ensemble d’individus (les 10 premiers) et vérifier la dimension (df2)"
   ]
  },
  {
   "cell_type": "code",
   "execution_count": 12,
   "id": "06fb219c",
   "metadata": {},
   "outputs": [],
   "source": [
    "df2 = df.iloc[:10,:]"
   ]
  },
  {
   "cell_type": "code",
   "execution_count": 13,
   "id": "2db1493a",
   "metadata": {},
   "outputs": [
    {
     "data": {
      "text/html": [
       "<div>\n",
       "<style scoped>\n",
       "    .dataframe tbody tr th:only-of-type {\n",
       "        vertical-align: middle;\n",
       "    }\n",
       "\n",
       "    .dataframe tbody tr th {\n",
       "        vertical-align: top;\n",
       "    }\n",
       "\n",
       "    .dataframe thead th {\n",
       "        text-align: right;\n",
       "    }\n",
       "</style>\n",
       "<table border=\"1\" class=\"dataframe\">\n",
       "  <thead>\n",
       "    <tr style=\"text-align: right;\">\n",
       "      <th></th>\n",
       "      <th>age</th>\n",
       "      <th>sexe</th>\n",
       "      <th>type_douleur</th>\n",
       "      <th>pression</th>\n",
       "      <th>cholester</th>\n",
       "      <th>sucre</th>\n",
       "      <th>electro</th>\n",
       "      <th>taux_max</th>\n",
       "      <th>angine</th>\n",
       "      <th>depression</th>\n",
       "      <th>pic</th>\n",
       "      <th>vaisseau</th>\n",
       "      <th>coeur</th>\n",
       "    </tr>\n",
       "  </thead>\n",
       "  <tbody>\n",
       "    <tr>\n",
       "      <th>0</th>\n",
       "      <td>70</td>\n",
       "      <td>masculin</td>\n",
       "      <td>D</td>\n",
       "      <td>130</td>\n",
       "      <td>322</td>\n",
       "      <td>A</td>\n",
       "      <td>C</td>\n",
       "      <td>109</td>\n",
       "      <td>non</td>\n",
       "      <td>2.4</td>\n",
       "      <td>2</td>\n",
       "      <td>D</td>\n",
       "      <td>presence</td>\n",
       "    </tr>\n",
       "    <tr>\n",
       "      <th>1</th>\n",
       "      <td>67</td>\n",
       "      <td>feminin</td>\n",
       "      <td>C</td>\n",
       "      <td>115</td>\n",
       "      <td>564</td>\n",
       "      <td>A</td>\n",
       "      <td>C</td>\n",
       "      <td>160</td>\n",
       "      <td>non</td>\n",
       "      <td>1.6</td>\n",
       "      <td>2</td>\n",
       "      <td>A</td>\n",
       "      <td>absence</td>\n",
       "    </tr>\n",
       "    <tr>\n",
       "      <th>2</th>\n",
       "      <td>57</td>\n",
       "      <td>masculin</td>\n",
       "      <td>B</td>\n",
       "      <td>124</td>\n",
       "      <td>261</td>\n",
       "      <td>A</td>\n",
       "      <td>A</td>\n",
       "      <td>141</td>\n",
       "      <td>non</td>\n",
       "      <td>0.3</td>\n",
       "      <td>1</td>\n",
       "      <td>A</td>\n",
       "      <td>presence</td>\n",
       "    </tr>\n",
       "    <tr>\n",
       "      <th>3</th>\n",
       "      <td>64</td>\n",
       "      <td>masculin</td>\n",
       "      <td>D</td>\n",
       "      <td>128</td>\n",
       "      <td>263</td>\n",
       "      <td>A</td>\n",
       "      <td>A</td>\n",
       "      <td>105</td>\n",
       "      <td>oui</td>\n",
       "      <td>0.2</td>\n",
       "      <td>2</td>\n",
       "      <td>B</td>\n",
       "      <td>absence</td>\n",
       "    </tr>\n",
       "    <tr>\n",
       "      <th>4</th>\n",
       "      <td>74</td>\n",
       "      <td>feminin</td>\n",
       "      <td>B</td>\n",
       "      <td>120</td>\n",
       "      <td>269</td>\n",
       "      <td>A</td>\n",
       "      <td>C</td>\n",
       "      <td>121</td>\n",
       "      <td>oui</td>\n",
       "      <td>0.2</td>\n",
       "      <td>1</td>\n",
       "      <td>B</td>\n",
       "      <td>absence</td>\n",
       "    </tr>\n",
       "    <tr>\n",
       "      <th>5</th>\n",
       "      <td>65</td>\n",
       "      <td>masculin</td>\n",
       "      <td>D</td>\n",
       "      <td>120</td>\n",
       "      <td>177</td>\n",
       "      <td>A</td>\n",
       "      <td>A</td>\n",
       "      <td>140</td>\n",
       "      <td>non</td>\n",
       "      <td>0.4</td>\n",
       "      <td>1</td>\n",
       "      <td>A</td>\n",
       "      <td>absence</td>\n",
       "    </tr>\n",
       "    <tr>\n",
       "      <th>6</th>\n",
       "      <td>56</td>\n",
       "      <td>masculin</td>\n",
       "      <td>C</td>\n",
       "      <td>130</td>\n",
       "      <td>256</td>\n",
       "      <td>B</td>\n",
       "      <td>C</td>\n",
       "      <td>142</td>\n",
       "      <td>oui</td>\n",
       "      <td>0.6</td>\n",
       "      <td>2</td>\n",
       "      <td>B</td>\n",
       "      <td>presence</td>\n",
       "    </tr>\n",
       "    <tr>\n",
       "      <th>7</th>\n",
       "      <td>59</td>\n",
       "      <td>masculin</td>\n",
       "      <td>D</td>\n",
       "      <td>110</td>\n",
       "      <td>239</td>\n",
       "      <td>A</td>\n",
       "      <td>C</td>\n",
       "      <td>142</td>\n",
       "      <td>oui</td>\n",
       "      <td>1.2</td>\n",
       "      <td>2</td>\n",
       "      <td>B</td>\n",
       "      <td>presence</td>\n",
       "    </tr>\n",
       "    <tr>\n",
       "      <th>8</th>\n",
       "      <td>60</td>\n",
       "      <td>masculin</td>\n",
       "      <td>D</td>\n",
       "      <td>140</td>\n",
       "      <td>293</td>\n",
       "      <td>A</td>\n",
       "      <td>C</td>\n",
       "      <td>170</td>\n",
       "      <td>non</td>\n",
       "      <td>1.2</td>\n",
       "      <td>2</td>\n",
       "      <td>C</td>\n",
       "      <td>presence</td>\n",
       "    </tr>\n",
       "    <tr>\n",
       "      <th>9</th>\n",
       "      <td>63</td>\n",
       "      <td>feminin</td>\n",
       "      <td>D</td>\n",
       "      <td>150</td>\n",
       "      <td>407</td>\n",
       "      <td>A</td>\n",
       "      <td>C</td>\n",
       "      <td>154</td>\n",
       "      <td>non</td>\n",
       "      <td>4.0</td>\n",
       "      <td>2</td>\n",
       "      <td>D</td>\n",
       "      <td>presence</td>\n",
       "    </tr>\n",
       "  </tbody>\n",
       "</table>\n",
       "</div>"
      ],
      "text/plain": [
       "   age      sexe type_douleur  pression  cholester sucre electro  taux_max  \\\n",
       "0   70  masculin            D       130        322     A       C       109   \n",
       "1   67   feminin            C       115        564     A       C       160   \n",
       "2   57  masculin            B       124        261     A       A       141   \n",
       "3   64  masculin            D       128        263     A       A       105   \n",
       "4   74   feminin            B       120        269     A       C       121   \n",
       "5   65  masculin            D       120        177     A       A       140   \n",
       "6   56  masculin            C       130        256     B       C       142   \n",
       "7   59  masculin            D       110        239     A       C       142   \n",
       "8   60  masculin            D       140        293     A       C       170   \n",
       "9   63   feminin            D       150        407     A       C       154   \n",
       "\n",
       "  angine  depression  pic vaisseau     coeur  \n",
       "0    non         2.4    2        D  presence  \n",
       "1    non         1.6    2        A   absence  \n",
       "2    non         0.3    1        A  presence  \n",
       "3    oui         0.2    2        B   absence  \n",
       "4    oui         0.2    1        B   absence  \n",
       "5    non         0.4    1        A   absence  \n",
       "6    oui         0.6    2        B  presence  \n",
       "7    oui         1.2    2        B  presence  \n",
       "8    non         1.2    2        C  presence  \n",
       "9    non         4.0    2        D  presence  "
      ]
     },
     "execution_count": 13,
     "metadata": {},
     "output_type": "execute_result"
    }
   ],
   "source": [
    "df2"
   ]
  },
  {
   "cell_type": "code",
   "execution_count": 14,
   "id": "44371e2b",
   "metadata": {},
   "outputs": [
    {
     "data": {
      "text/plain": [
       "10"
      ]
     },
     "execution_count": 14,
     "metadata": {},
     "output_type": "execute_result"
    }
   ],
   "source": [
    "df2.shape[0]"
   ]
  },
  {
   "cell_type": "code",
   "execution_count": 15,
   "id": "95f4f644",
   "metadata": {},
   "outputs": [
    {
     "data": {
      "text/plain": [
       "13"
      ]
     },
     "execution_count": 15,
     "metadata": {},
     "output_type": "execute_result"
    }
   ],
   "source": [
    "df2.shape[1]"
   ]
  },
  {
   "cell_type": "markdown",
   "id": "3cb2ab3c",
   "metadata": {},
   "source": [
    "## Exercise 2 : Représentation graphique des données qualitatives"
   ]
  },
  {
   "cell_type": "markdown",
   "id": "838f04f4",
   "metadata": {},
   "source": [
    "### 2.1 Vérifier les modalités de la variable (type douleur) de df1"
   ]
  },
  {
   "cell_type": "code",
   "execution_count": 16,
   "id": "16cb96fa",
   "metadata": {
    "scrolled": true
   },
   "outputs": [
    {
     "name": "stdout",
     "output_type": "stream",
     "text": [
      "les modalités de la variable type_douleur sont:  ['D' 'C' 'B' 'A']\n"
     ]
    }
   ],
   "source": [
    "modalités = df1[\"type_douleur\"].unique()\n",
    "print(\"les modalités de la variable type_douleur sont: \", modalités)"
   ]
  },
  {
   "cell_type": "markdown",
   "id": "32cfd1ab",
   "metadata": {},
   "source": [
    "### Calculer l'effectif de chaque modalité de la variably type_douleur"
   ]
  },
  {
   "cell_type": "markdown",
   "id": "5638a5da",
   "metadata": {},
   "source": [
    "L’effectif, aussi appelé fréquence absolue, est le nombre d’individus n dont la variable x présente la modalité a."
   ]
  },
  {
   "cell_type": "code",
   "execution_count": 17,
   "id": "12b1c37a",
   "metadata": {},
   "outputs": [
    {
     "data": {
      "text/plain": [
       "D    129\n",
       "C     79\n",
       "B     42\n",
       "A     20\n",
       "Name: type_douleur, dtype: int64"
      ]
     },
     "execution_count": 17,
     "metadata": {},
     "output_type": "execute_result"
    }
   ],
   "source": [
    "effectif_type_douleur = df1[\"type_douleur\"].value_counts()\n",
    "effectif_type_douleur"
   ]
  },
  {
   "cell_type": "markdown",
   "id": "6270cf2e",
   "metadata": {},
   "source": [
    "### 2.2 Calculer la fréquence (en %) de df1"
   ]
  },
  {
   "cell_type": "code",
   "execution_count": 18,
   "id": "5a392ce5",
   "metadata": {},
   "outputs": [
    {
     "name": "stdout",
     "output_type": "stream",
     "text": [
      "La Fréquence en purcentage de  D  est  47.8 %\n",
      "La Fréquence en purcentage de  C  est  29.3 %\n",
      "La Fréquence en purcentage de  B  est  15.6 %\n",
      "La Fréquence en purcentage de  A  est  7.4 %\n"
     ]
    }
   ],
   "source": [
    "# with normalize to True we get the relative frequence of each value.\n",
    "fréquence_prc = df1[\"type_douleur\"].value_counts(normalize = True) * 100\n",
    "# iteritems helps take the index name and also the value in series.\n",
    "for i,v in fréquence_prc.iteritems():\n",
    "    print(\"La Fréquence en purcentage de \", i , \" est \", round(v,1), \"%\")"
   ]
  },
  {
   "cell_type": "code",
   "execution_count": 19,
   "id": "d2209176",
   "metadata": {},
   "outputs": [
    {
     "data": {
      "text/plain": [
       "pandas.core.series.Series"
      ]
     },
     "execution_count": 19,
     "metadata": {},
     "output_type": "execute_result"
    }
   ],
   "source": [
    "type(fréquence_prc)"
   ]
  },
  {
   "cell_type": "markdown",
   "id": "e3ed7b0a",
   "metadata": {},
   "source": [
    "### 2.3 Représenter le diagramme en bâtons de df1"
   ]
  },
  {
   "cell_type": "code",
   "execution_count": 20,
   "id": "30fdc0ed",
   "metadata": {},
   "outputs": [],
   "source": [
    "import matplotlib.pyplot as plt"
   ]
  },
  {
   "cell_type": "markdown",
   "id": "53071786",
   "metadata": {},
   "source": [
    "Il s’apparente à un diagramme à bandes. Toutefois, le diagramme à bandes est plutôt utilisé pour une variable qualitative alors que le diagramme à bâtons est utilisé dans le cas d’une variable quantitative."
   ]
  },
  {
   "cell_type": "code",
   "execution_count": 21,
   "id": "2874d926",
   "metadata": {},
   "outputs": [
    {
     "data": {
      "image/png": "[encoded data removed]",
      "text/plain": [
       "<Figure size 576x432 with 1 Axes>"
      ]
     },
     "metadata": {
      "needs_background": "light"
     },
     "output_type": "display_data"
    }
   ],
   "source": [
    "# fig\n",
    "fig, ax = plt.subplots(figsize=(8,6))\n",
    "# barrs\n",
    "ax.vlines(x=effectif_type_douleur.index, ymin=0, ymax=effectif_type_douleur, color='cornflowerblue', alpha=1, linewidth=1.7)\n",
    "# bulles\n",
    "ax.scatter(x=effectif_type_douleur.index, y=effectif_type_douleur, s=30, color='tomato', alpha=1)\n",
    "\n",
    "# Title, Label, Ticks and Ylim\n",
    "ax.set_title('Diagrame en bâtons pour Fréquence de type de douleur de df', fontdict={'size':15})\n",
    "ax.set_ylabel('Fréquence absolute')\n",
    "ax.set_xlabel('Type de douleur')\n",
    "ax.set_xticks(effectif_type_douleur.index)\n",
    "ax.grid()\n",
    "# ax.set_xticklabels(df.manufacturer.str.upper(), rotation=60, fontdict={'horizontalalignment': 'right', 'size':12})\n",
    "ax.set_ylim(0, 140)\n",
    "# anotations\n",
    "for i,v in effectif_type_douleur.iteritems():\n",
    "    ax.text(i, v+2.7, s=v, horizontalalignment= 'center', verticalalignment= 'bottom', fontsize=12)\n",
    "plt.show()"
   ]
  },
  {
   "cell_type": "markdown",
   "id": "2707624a",
   "metadata": {},
   "source": [
    "### 2.4 Représenter le diagramme circulaire de df1 pour la variable type_douleur"
   ]
  },
  {
   "cell_type": "code",
   "execution_count": 22,
   "id": "3258b9d0",
   "metadata": {},
   "outputs": [
    {
     "data": {
      "image/png": "[encoded data removed]",
      "text/plain": [
       "<Figure size 576x576 with 1 Axes>"
      ]
     },
     "metadata": {},
     "output_type": "display_data"
    }
   ],
   "source": [
    "effectif_type_douleur.plot(kind='pie', subplots=True, figsize=(8, 8))\n",
    "plt.title(\"Diagramme circulaire de df1 pour la variable type_douleur\", fontsize = 18)\n",
    "plt.ylabel(\"Type de Douleur\", fontsize = 13)\n",
    "plt.show()"
   ]
  },
  {
   "cell_type": "markdown",
   "id": "86f91a3d",
   "metadata": {},
   "source": [
    "## Exersice 3 : Description de variables quantitatives"
   ]
  },
  {
   "cell_type": "markdown",
   "id": "50724520",
   "metadata": {},
   "source": [
    "### 3.1 Déterminer les caractéristiques de tendances centrales de la variable age : la moyenne, la médiane, les quartiles Q1, Q2, Q3."
   ]
  },
  {
   "cell_type": "code",
   "execution_count": 23,
   "id": "135bb02a",
   "metadata": {},
   "outputs": [
    {
     "data": {
      "text/plain": [
       "count    270.00\n",
       "mean      54.43\n",
       "std        9.11\n",
       "min       29.00\n",
       "25%       48.00\n",
       "50%       55.00\n",
       "75%       61.00\n",
       "max       77.00\n",
       "Name: age, dtype: float64"
      ]
     },
     "execution_count": 23,
     "metadata": {},
     "output_type": "execute_result"
    }
   ],
   "source": [
    "round(df['age'].describe(),2)"
   ]
  },
  {
   "cell_type": "markdown",
   "id": "f44dcf8b",
   "metadata": {},
   "source": [
    "La Moyenne"
   ]
  },
  {
   "cell_type": "code",
   "execution_count": 24,
   "id": "f80e2590",
   "metadata": {},
   "outputs": [
    {
     "data": {
      "text/plain": [
       "54.43"
      ]
     },
     "execution_count": 24,
     "metadata": {},
     "output_type": "execute_result"
    }
   ],
   "source": [
    "round(df['age'].mean(),2)"
   ]
  },
  {
   "cell_type": "markdown",
   "id": "00b644f1",
   "metadata": {},
   "source": [
    "La médiane"
   ]
  },
  {
   "cell_type": "code",
   "execution_count": 25,
   "id": "b74f3286",
   "metadata": {},
   "outputs": [
    {
     "data": {
      "text/plain": [
       "55.0"
      ]
     },
     "execution_count": 25,
     "metadata": {},
     "output_type": "execute_result"
    }
   ],
   "source": [
    "df['age'].median()"
   ]
  },
  {
   "cell_type": "markdown",
   "id": "045da2b6",
   "metadata": {},
   "source": [
    "les quartiles Q1, Q2, Q3."
   ]
  },
  {
   "cell_type": "code",
   "execution_count": 26,
   "id": "61a6a86b",
   "metadata": {},
   "outputs": [
    {
     "data": {
      "text/plain": [
       "0.25    48.0\n",
       "0.50    55.0\n",
       "0.75    61.0\n",
       "Name: age, dtype: float64"
      ]
     },
     "execution_count": 26,
     "metadata": {},
     "output_type": "execute_result"
    }
   ],
   "source": [
    "df['age'].quantile([0.25,0.50,0.75])"
   ]
  },
  {
   "cell_type": "markdown",
   "id": "7bbe0c38",
   "metadata": {},
   "source": [
    "### 3.2 Déterminer les caractéristiques de dispersion de la variable age : Étendue, la variance et l’écart type"
   ]
  },
  {
   "cell_type": "markdown",
   "id": "3a6ae88f",
   "metadata": {},
   "source": [
    "**L'étendu:** est l’écart entre la plus grande et la plus petite des valeurs. Cette caractéristique, qui dépend des valeurs aberrantes, est par cons ́equent peu fiable.\n"
   ]
  },
  {
   "cell_type": "code",
   "execution_count": 27,
   "id": "d05148fd",
   "metadata": {},
   "outputs": [
    {
     "data": {
      "text/plain": [
       "48"
      ]
     },
     "execution_count": 27,
     "metadata": {},
     "output_type": "execute_result"
    }
   ],
   "source": [
    "étendue = df['age'].max() - df['age'].min()\n",
    "étendue"
   ]
  },
  {
   "cell_type": "markdown",
   "id": "1fee577c",
   "metadata": {},
   "source": [
    "La varience (variance): elle est au carré car ça ilimine les valuer negatives mais aussi ça la rend plus sensible aux valuers averentes. -1 for the sample to account for the higher potential variability."
   ]
  },
  {
   "cell_type": "markdown",
   "id": "ed52c42a",
   "metadata": {},
   "source": [
    "![alt text](variance.png \"Title\")"
   ]
  },
  {
   "cell_type": "code",
   "execution_count": 28,
   "id": "4f0f8ea3",
   "metadata": {},
   "outputs": [
    {
     "data": {
      "text/plain": [
       "82.98"
      ]
     },
     "execution_count": 28,
     "metadata": {},
     "output_type": "execute_result"
    }
   ],
   "source": [
    "varience = df['age'].var()\n",
    "round(varience, 2)"
   ]
  },
  {
   "cell_type": "markdown",
   "id": "64dec1f0",
   "metadata": {},
   "source": [
    "L'écart type: est la racine carrée positive de la variance :"
   ]
  },
  {
   "cell_type": "markdown",
   "id": "c691b122",
   "metadata": {},
   "source": [
    "![alt text](standard-dev.png \"Title\")"
   ]
  },
  {
   "cell_type": "code",
   "execution_count": 29,
   "id": "292d8806",
   "metadata": {},
   "outputs": [
    {
     "data": {
      "text/plain": [
       "9.11"
      ]
     },
     "execution_count": 29,
     "metadata": {},
     "output_type": "execute_result"
    }
   ],
   "source": [
    "écart_type = df['age'].std()\n",
    "round(écart_type , 2)"
   ]
  },
  {
   "cell_type": "markdown",
   "id": "2e6882ab",
   "metadata": {},
   "source": [
    "### bonus: coefficient of variation"
   ]
  },
  {
   "cell_type": "markdown",
   "id": "50528f38",
   "metadata": {},
   "source": [
    "Coefficient of variabtion: is the standard deviation divided by the mean. Comparing 2 standard deviations is meaningless but comparing coefficient of variation is meaningful."
   ]
  },
  {
   "cell_type": "markdown",
   "id": "d52f4c49",
   "metadata": {},
   "source": [
    "![alt text](coefficient.png \"Title\")"
   ]
  },
  {
   "cell_type": "code",
   "execution_count": 33,
   "id": "9f2c555c",
   "metadata": {},
   "outputs": [
    {
     "data": {
      "text/plain": [
       "0.167"
      ]
     },
     "execution_count": 33,
     "metadata": {},
     "output_type": "execute_result"
    }
   ],
   "source": [
    "cv = df['age'].std()/df['age'].mean()\n",
    "round(cv, 3)"
   ]
  },
  {
   "cell_type": "markdown",
   "id": "140bea5c",
   "metadata": {},
   "source": [
    "### 3.3 Représenter l’histogramme de la variable age"
   ]
  },
  {
   "cell_type": "code",
   "execution_count": 64,
   "id": "bbf3fc97",
   "metadata": {},
   "outputs": [
    {
     "data": {
      "image/png": "[encoded data removed]",
      "text/plain": [
       "<Figure size 432x288 with 1 Axes>"
      ]
     },
     "metadata": {
      "needs_background": "light"
     },
     "output_type": "display_data"
    }
   ],
   "source": [
    "plt.hist(df['age'], bins=10, alpha=1)\n",
    "plt.grid()\n",
    "plt.xlabel(\"age\", size=14)\n",
    "plt.ylabel(\"frequence\", size=14)\n",
    "plt.title(\"l’histogramme de la variable age\")\n",
    "plt.savefig(\"histogram-age.png\")"
   ]
  },
  {
   "cell_type": "markdown",
   "id": "089a5fa1",
   "metadata": {},
   "source": [
    "### 3.4 Représenter l’histogramme de la variable age selon le sexe"
   ]
  },
  {
   "cell_type": "code",
   "execution_count": null,
   "id": "ce71d93e",
   "metadata": {},
   "outputs": [],
   "source": [
    "age_sex_m = pd.DataFrame(df[df['sexe']=='masculin']['age'])\n",
    "age_sex_f = pd.DataFrame(df[df['sexe']=='feminin']['age'])\n",
    "\n",
    "# or df.hist(column='age',by='sexe',figsize=(5,3))"
   ]
  },
  {
   "cell_type": "code",
   "execution_count": 67,
   "id": "4c04147f",
   "metadata": {},
   "outputs": [
    {
     "data": {
      "image/png": "[encoded data removed]",
      "text/plain": [
       "<Figure size 576x432 with 1 Axes>"
      ]
     },
     "metadata": {
      "needs_background": "light"
     },
     "output_type": "display_data"
    }
   ],
   "source": [
    "plt.figure(figsize=(8,6))\n",
    "plt.grid()\n",
    "plt.hist(age_sex_m, bins=10, alpha=0.7, label=\"feminin\")\n",
    "plt.hist(age_sex_f, bins=10, alpha=0.7, label=\"masculin\")\n",
    "plt.xlabel(\"age\", size=14)\n",
    "plt.ylabel(\"frequence\", size=14)\n",
    "plt.title(\"l’histogramme de la variable age selon le sexe\")\n",
    "plt.legend(loc='upper right')\n",
    "plt.savefig(\"histograms-age-sex.png\")"
   ]
  },
  {
   "cell_type": "markdown",
   "id": "e279d877",
   "metadata": {},
   "source": [
    "### 3.5 Représenter le diagramme en boite de la variable age"
   ]
  },
  {
   "cell_type": "code",
   "execution_count": 81,
   "id": "cf62304a",
   "metadata": {},
   "outputs": [
    {
     "data": {
      "image/png": "[encoded data removed]",
      "text/plain": [
       "<Figure size 432x288 with 1 Axes>"
      ]
     },
     "metadata": {
      "needs_background": "light"
     },
     "output_type": "display_data"
    }
   ],
   "source": [
    "plt.boxplot(df['age'], whis = 1.5, patch_artist=True)\n",
    "plt.grid()\n",
    "plt.xlabel(\"Variable age\", size=14)\n",
    "plt.ylabel(\"age\", size=14)\n",
    "plt.title(\"le diagramme en boite de la variable age\")\n",
    "plt.savefig(\"boxplot-age.png\")"
   ]
  },
  {
   "cell_type": "markdown",
   "id": "eb2b2719",
   "metadata": {},
   "source": [
    "### 3.6 Calculer le coefficient d’asymétrie et interpréter le résultat"
   ]
  },
  {
   "cell_type": "code",
   "execution_count": 88,
   "id": "54dcca1c",
   "metadata": {},
   "outputs": [
    {
     "data": {
      "text/plain": [
       "age          -0.163615\n",
       "pression      0.722618\n",
       "cholester     1.183721\n",
       "taux_max     -0.527737\n",
       "depression    1.262893\n",
       "pic           0.543151\n",
       "dtype: float64"
      ]
     },
     "execution_count": 88,
     "metadata": {},
     "output_type": "execute_result"
    }
   ],
   "source": [
    "df.skew(skipna = True)"
   ]
  },
  {
   "cell_type": "code",
   "execution_count": 89,
   "id": "5ce144e8",
   "metadata": {},
   "outputs": [
    {
     "data": {
      "text/plain": [
       "54.43333333333333"
      ]
     },
     "execution_count": 89,
     "metadata": {},
     "output_type": "execute_result"
    }
   ],
   "source": [
    "df['age'].mean()"
   ]
  },
  {
   "cell_type": "code",
   "execution_count": 90,
   "id": "b2f1b799",
   "metadata": {},
   "outputs": [
    {
     "data": {
      "text/plain": [
       "0    54\n",
       "dtype: int64"
      ]
     },
     "execution_count": 90,
     "metadata": {},
     "output_type": "execute_result"
    }
   ],
   "source": [
    "df['age'].mode()"
   ]
  },
  {
   "cell_type": "code",
   "execution_count": 91,
   "id": "cd72272f",
   "metadata": {},
   "outputs": [
    {
     "data": {
      "text/plain": [
       "55.0"
      ]
     },
     "execution_count": 91,
     "metadata": {},
     "output_type": "execute_result"
    }
   ],
   "source": [
    "df['age'].median()"
   ]
  },
  {
   "cell_type": "markdown",
   "id": "0f0e616b",
   "metadata": {},
   "source": [
    "Negative values for the skewness indicate data that are skewed left and positive values for the skewness indicate data that are skewed right. By skewed left, we mean that the left tail is long relative to the right tail. Similarly, skewed right means that the right tail is long relative to the left tail.\n",
    "\n",
    "Dans se cas on dis que la variable age est decale vers la gauche car la valeur du coefficient d'asymetrie est négative et la qeue gauche est relativement plus long que selle de la droite. On peut également constater que la mediane est plus grande comparer à la moyenne. La mode dans se cas n'est pas plus grande que la mooyenne mais elle est proche. 54 et 54.43 respectivement. La distribution des valeur pour cette variable est dite asymetrique."
   ]
  },
  {
   "cell_type": "markdown",
   "id": "21c2e9c9",
   "metadata": {},
   "source": [
    "### 3.7 Calculer le coefficient d’aplatissement et interpréter le résultat"
   ]
  },
  {
   "cell_type": "code",
   "execution_count": null,
   "id": "0f0c3e48",
   "metadata": {},
   "outputs": [],
   "source": []
  }
 ],
 "metadata": {
  "kernelspec": {
   "display_name": "Python 3",
   "language": "python",
   "name": "python3"
  },
  "language_info": {
   "codemirror_mode": {
    "name": "ipython",
    "version": 3
   },
   "file_extension": ".py",
   "mimetype": "text/x-python",
   "name": "python",
   "nbconvert_exporter": "python",
   "pygments_lexer": "ipython3",
   "version": "3.8.2"
  }
 },
 "nbformat": 4,
 "nbformat_minor": 5
}
